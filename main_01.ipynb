{
 "cells": [
  {
   "cell_type": "code",
   "execution_count": 2,
   "id": "2177f773",
   "metadata": {},
   "outputs": [],
   "source": [
    "import sys\n",
    "sys.path.append('./modulos')\n",
    "\n",
    "from Multiplos import primeros_multiplos\n",
    "from Potencias import primeras_potencias\n",
    "from Suma_listas import suma_elementos\n",
    "from resumen import consolidar_dataframe, estadisticas_basicas"
   ]
  },
  {
   "cell_type": "code",
   "execution_count": 3,
   "id": "81f6aac1",
   "metadata": {},
   "outputs": [],
   "source": [
    "# 1. Pide el número al usuario\n",
    "n = int(input(\"Introduce un número entero: \"))"
   ]
  },
  {
   "cell_type": "code",
   "execution_count": 7,
   "id": "58d3051f",
   "metadata": {},
   "outputs": [],
   "source": [
    "# 2. Usa los módulos\n",
    "Multiplos = primeros_multiplos(n)\n",
    "Potencias = primeras_potencias(n)\n",
    "Suma_listas = suma_elementos(Multiplos, Potencias)"
   ]
  },
  {
   "cell_type": "code",
   "execution_count": 10,
   "id": "9e18a571",
   "metadata": {},
   "outputs": [
    {
     "name": "stdout",
     "output_type": "stream",
     "text": [
      "   multiplos  potencias   suma\n",
      "0          3          1      4\n",
      "1          6          3      9\n",
      "2          9          9     18\n",
      "3         12         27     39\n",
      "4         15         81     96\n",
      "5         18        243    261\n",
      "6         21        729    750\n",
      "7         24       2187   2211\n",
      "8         27       6561   6588\n",
      "9         30      19683  19713\n"
     ]
    }
   ],
   "source": [
    "# 3. Consolida en DataFrame y muestra estadística\n",
    "df = consolidar_dataframe(Multiplos, Potencias, Suma_listas)\n",
    "print(df)"
   ]
  },
  {
   "cell_type": "code",
   "execution_count": 11,
   "id": "82f67b2f",
   "metadata": {},
   "outputs": [
    {
     "name": "stdout",
     "output_type": "stream",
     "text": [
      "\n",
      "Estadísticas básicas:\n",
      "Estadísticas descriptivas:\n",
      "       multiplos     potencias          suma\n",
      "count  10.000000     10.000000     10.000000\n",
      "mean   16.500000   2952.400000   2968.900000\n",
      "std     9.082951   6224.337469   6230.665569\n",
      "min     3.000000      1.000000      4.000000\n",
      "25%     9.750000     13.500000     23.250000\n",
      "50%    16.500000    162.000000    178.500000\n",
      "75%    23.250000   1822.500000   1845.750000\n",
      "max    30.000000  19683.000000  19713.000000\n"
     ]
    }
   ],
   "source": [
    "#4. Consolida y muestra estadísticas básicas\n",
    "print(\"\\nEstadísticas básicas:\")\n",
    "estadisticas_basicas(df)"
   ]
  }
 ],
 "metadata": {
  "kernelspec": {
   "display_name": "base",
   "language": "python",
   "name": "python3"
  },
  "language_info": {
   "codemirror_mode": {
    "name": "ipython",
    "version": 3
   },
   "file_extension": ".py",
   "mimetype": "text/x-python",
   "name": "python",
   "nbconvert_exporter": "python",
   "pygments_lexer": "ipython3",
   "version": "3.12.7"
  }
 },
 "nbformat": 4,
 "nbformat_minor": 5
}
